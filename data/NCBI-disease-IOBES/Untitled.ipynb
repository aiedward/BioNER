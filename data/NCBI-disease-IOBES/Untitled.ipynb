{
 "cells": [
  {
   "cell_type": "code",
   "execution_count": 9,
   "metadata": {},
   "outputs": [
    {
     "name": "stdout",
     "output_type": "stream",
     "text": [
      "6852\n",
      "3892\n",
      "15173.0\n",
      "22 deficiency\n",
      "2.21438995914\n",
      "7284\n"
     ]
    }
   ],
   "source": [
    "import csv\n",
    "pairwise = dict()\n",
    "# paths = ['train.tsv', 'devel.tsv']\n",
    "paths = ['train.tsv', 'devel.tsv', 'test.tsv']\n",
    "sentences = []\n",
    "sentence = []\n",
    "p_label = ''\n",
    "p_token = ''\n",
    "\n",
    "all_length = []\n",
    "length = 0\n",
    "longer_entity = 0\n",
    "max_length = 0\n",
    "entity_count = 0\n",
    "\n",
    "for path in paths:\n",
    "    with open(path) as fin:\n",
    "        reader = csv.reader(fin, delimiter='\\t', quoting=csv.QUOTE_NONE)\n",
    "        entity_length_turn_on = False\n",
    "        for i, row in enumerate(reader):\n",
    "            if i == 0:\n",
    "                pass\n",
    "            if len(row) < 2:\n",
    "                sentences.append(sentence)\n",
    "                sentence = []\n",
    "            else:\n",
    "                token = row[0]\n",
    "                label = row[1]\n",
    "                if len(p_label) == 1 and len(label) > 1:\n",
    "                    entity_length_turn_on = True\n",
    "                    length = 1\n",
    "                elif entity_length_turn_on == True and len(label) > 1:\n",
    "                    length += 1\n",
    "                elif entity_length_turn_on == True and len(label) == 1:\n",
    "                    entity_length_turn_on = False\n",
    "                    all_length.append(length)\n",
    "                    if length > 1:\n",
    "                        longer_entity += 1\n",
    "                    if length > max_length:\n",
    "                        max_length = length\n",
    "                        max_entity_token = p_token\n",
    "                    entity_count += 1\n",
    "                    length = 0\n",
    "#                 print p_label\n",
    "                p_label = label\n",
    "                p_token = token\n",
    "\n",
    "total = sum(all_length, 0.0)\n",
    "average_length = total / entity_count\n",
    "print entity_count\n",
    "print longer_entity\n",
    "print total\n",
    "print max_length, max_entity_token\n",
    "print average_length\n",
    "print len(sentences)\n",
    "                "
   ]
  }
 ],
 "metadata": {
  "kernelspec": {
   "display_name": "Python 2",
   "language": "python",
   "name": "python2"
  },
  "language_info": {
   "codemirror_mode": {
    "name": "ipython",
    "version": 2
   },
   "file_extension": ".py",
   "mimetype": "text/x-python",
   "name": "python",
   "nbconvert_exporter": "python",
   "pygments_lexer": "ipython2",
   "version": "2.7.15"
  }
 },
 "nbformat": 4,
 "nbformat_minor": 2
}
